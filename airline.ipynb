{
 "cells": [
  {
   "cell_type": "markdown",
   "metadata": {},
   "source": [
    "# Airline OnTime\n",
    "### predict whether arrival of flight will be delayed "
   ]
  },
  {
   "cell_type": "code",
   "execution_count": 1,
   "metadata": {},
   "outputs": [
    {
     "name": "stderr",
     "output_type": "stream",
     "text": [
      "/Users/DK/anaconda/lib/python2.7/site-packages/sklearn/cross_validation.py:44: DeprecationWarning: This module was deprecated in version 0.18 in favor of the model_selection module into which all the refactored classes and functions are moved. Also note that the interface of the new CV iterators are different from that of this module. This module will be removed in 0.20.\n",
      "  \"This module will be removed in 0.20.\", DeprecationWarning)\n",
      "/Users/DK/anaconda/lib/python2.7/site-packages/statsmodels/compat/pandas.py:56: FutureWarning: The pandas.core.datetools module is deprecated and will be removed in a future version. Please use the pandas.tseries module instead.\n",
      "  from pandas.core import datetools\n"
     ]
    }
   ],
   "source": [
    "#import necessary libraries\n",
    "import numpy as np\n",
    "import pandas as pd\n",
    "#linear, ridge and lasso regression will be performed on the data set\n",
    "from scipy import stats\n",
    "from sklearn.cross_validation import train_test_split\n",
    "from sklearn.metrics import mean_squared_error, r2_score\n",
    "import statsmodels.api as sm\n",
    "from sklearn import linear_model\n",
    "from sklearn.linear_model import Ridge, Lasso\n",
    "\n",
    "import warnings\n",
    "warnings.filterwarnings('ignore')"
   ]
  },
  {
   "cell_type": "markdown",
   "metadata": {},
   "source": [
    "### load and explore data"
   ]
  },
  {
   "cell_type": "code",
   "execution_count": 2,
   "metadata": {},
   "outputs": [
    {
     "name": "stdout",
     "output_type": "stream",
     "text": [
      "<class 'pandas.core.frame.DataFrame'>\n",
      "RangeIndex: 75470 entries, 0 to 75469\n",
      "Data columns (total 12 columns):\n",
      "YEAR                     75470 non-null int64\n",
      "UNIQUE_CARRIER           75470 non-null object\n",
      "ORIGIN_AIRPORT_ID        75470 non-null int64\n",
      "ORIGIN_AIRPORT_SEQ_ID    75470 non-null int64\n",
      "ORIGIN_CITY_MARKET_ID    75470 non-null int64\n",
      "DEST_AIRPORT_ID          75470 non-null int64\n",
      "DEST_AIRPORT_SEQ_ID      75470 non-null int64\n",
      "DEST_CITY_MARKET_ID      75470 non-null int64\n",
      "DEP_DELAY                73742 non-null float64\n",
      "ARR_DELAY                73428 non-null float64\n",
      "CANCELLED                75470 non-null int64\n",
      "DISTANCE                 75470 non-null int64\n",
      "dtypes: float64(2), int64(9), object(1)\n",
      "memory usage: 6.9+ MB\n"
     ]
    }
   ],
   "source": [
    "df = pd.read_csv('AIRLINE_ONTIME.csv')\n",
    "df.info()"
   ]
  },
  {
   "cell_type": "markdown",
   "metadata": {},
   "source": [
    "it appears that there are null values for departure and arrival delays"
   ]
  },
  {
   "cell_type": "markdown",
   "metadata": {},
   "source": [
    "### clean and refine data\n",
    "it appears that where both departure and arrival delay is both null, flight was cancelled\n",
    "however there are still more null values in arrival delay in which there is a non-null value for departure delay and the flight was not cancelled, the assumption that can be made is that either the flight departed but did not reach it's destination (i.e. Malysia Airlines Flight 370) or it can be assumed that the flight arrived on time and a value was not put it\n",
    "the latter will be assumed "
   ]
  },
  {
   "cell_type": "code",
   "execution_count": 3,
   "metadata": {
    "collapsed": true
   },
   "outputs": [],
   "source": [
    "#change the null values of arrival delay in which the flight was not cancelled to 0\n",
    "df.ARR_DELAY = np.where((df.ARR_DELAY.isnull()) & (df.CANCELLED == 0), 0, df.ARR_DELAY)"
   ]
  },
  {
   "cell_type": "markdown",
   "metadata": {},
   "source": [
    "also since I am predicting the probability that arrival of a flight is delayed, cancelled flights never departed nor arrive so the flights that were cancelled were taken out"
   ]
  },
  {
   "cell_type": "code",
   "execution_count": 4,
   "metadata": {
    "collapsed": true
   },
   "outputs": [],
   "source": [
    "df1 = df[df.CANCELLED == 0]"
   ]
  },
  {
   "cell_type": "markdown",
   "metadata": {},
   "source": [
    "### Feature Engineering\n",
    "a weight was put on whether or not the flight had a delay for both departure and arrival\n",
    "\n",
    "also whether or not the flight departed or arrived early was weighed as well"
   ]
  },
  {
   "cell_type": "code",
   "execution_count": 5,
   "metadata": {
    "collapsed": true
   },
   "outputs": [],
   "source": [
    "df1['ARR_ONTIME'] = df1['ARR_DELAY'].apply(lambda x: 1 if x <= 0 else 0)\n",
    "df1['DEP_ONTIME'] = df1['DEP_DELAY'].apply(lambda x: 1 if x <= 0 else 0)\n",
    "df1['ARR_EARLY'] = df1['ARR_DELAY'].apply(lambda x: 1 if x < 0 else 0)\n",
    "df1['DEP_EARLY'] = df1['DEP_DELAY'].apply(lambda x: 1 if x < 0 else 0)"
   ]
  },
  {
   "cell_type": "markdown",
   "metadata": {},
   "source": [
    "### define feature and target"
   ]
  },
  {
   "cell_type": "code",
   "execution_count": 6,
   "metadata": {
    "collapsed": true
   },
   "outputs": [],
   "source": [
    "x = df1[[\"DEP_DELAY\", \"DISTANCE\", \"ORIGIN_AIRPORT_ID\", \"ORIGIN_AIRPORT_SEQ_ID\", \"ORIGIN_CITY_MARKET_ID\", \"DEST_AIRPORT_ID\", \"DEST_AIRPORT_SEQ_ID\", \"DEST_CITY_MARKET_ID\", 'ARR_ONTIME', 'DEP_ONTIME', 'ARR_EARLY', 'DEP_EARLY']]\n",
    "y = df1[\"ARR_DELAY\"]"
   ]
  },
  {
   "cell_type": "markdown",
   "metadata": {
    "collapsed": true
   },
   "source": [
    "### add constant and get dummy variables"
   ]
  },
  {
   "cell_type": "code",
   "execution_count": 7,
   "metadata": {
    "collapsed": true
   },
   "outputs": [],
   "source": [
    "x1 = sm.add_constant(x)\n",
    "x1 = pd.get_dummies(x1, drop_first=True)"
   ]
  },
  {
   "cell_type": "markdown",
   "metadata": {},
   "source": [
    "### split the data set into training and testing data sets"
   ]
  },
  {
   "cell_type": "code",
   "execution_count": 8,
   "metadata": {
    "collapsed": true
   },
   "outputs": [],
   "source": [
    "x_train, x_test, y_train, y_test = train_test_split(x1, y, train_size=.817, random_state=2)"
   ]
  },
  {
   "cell_type": "markdown",
   "metadata": {},
   "source": [
    "### perform linear regression"
   ]
  },
  {
   "cell_type": "code",
   "execution_count": 9,
   "metadata": {},
   "outputs": [
    {
     "name": "stdout",
     "output_type": "stream",
     "text": [
      "The RMSE: 12.5030420134\n",
      "The r-squared: 0.952028640225\n"
     ]
    }
   ],
   "source": [
    "reg = linear_model.LinearRegression()\n",
    "regmodel = reg.fit(x_train, y_train)\n",
    "y_test_pred = regmodel.predict(x_test)\n",
    "print \"The RMSE:\", (mean_squared_error(y_test, y_test_pred))**0.5 \n",
    "print \"The r-squared:\", (r2_score(y_test, y_test_pred))"
   ]
  },
  {
   "cell_type": "markdown",
   "metadata": {},
   "source": [
    "### perform ridge regression"
   ]
  },
  {
   "cell_type": "code",
   "execution_count": 10,
   "metadata": {},
   "outputs": [
    {
     "name": "stdout",
     "output_type": "stream",
     "text": [
      "The RMSE: 12.5027779855\n",
      "The r-squared: 0.952030666235\n"
     ]
    }
   ],
   "source": [
    "reg = linear_model.Ridge(alpha=.4)\n",
    "regmodel = reg.fit(x_train, y_train)\n",
    "y_test_pred = regmodel.predict(x_test)\n",
    "print \"The RMSE:\", (mean_squared_error(y_test, y_test_pred))**0.5 \n",
    "print \"The r-squared:\",(r2_score(y_test, y_test_pred))"
   ]
  },
  {
   "cell_type": "markdown",
   "metadata": {},
   "source": [
    "### perform lasso regression"
   ]
  },
  {
   "cell_type": "code",
   "execution_count": 11,
   "metadata": {},
   "outputs": [
    {
     "name": "stdout",
     "output_type": "stream",
     "text": [
      "The RMSE: 12.5027779855\n",
      "The r-squared: 0.952030666235\n"
     ]
    }
   ],
   "source": [
    "lassoreg = linear_model.Lasso()\n",
    "lassoreg.fit(x_train, y_train)\n",
    "y_pred_lasso = lassoreg.predict(x_test)\n",
    "print \"The RMSE:\", (mean_squared_error(y_test, y_test_pred))**0.5 \n",
    "print \"The r-squared:\", (r2_score(y_test, y_test_pred))"
   ]
  },
  {
   "cell_type": "code",
   "execution_count": null,
   "metadata": {
    "collapsed": true
   },
   "outputs": [],
   "source": []
  },
  {
   "cell_type": "code",
   "execution_count": null,
   "metadata": {
    "collapsed": true
   },
   "outputs": [],
   "source": []
  }
 ],
 "metadata": {
  "kernelspec": {
   "display_name": "Python 2",
   "language": "python",
   "name": "python2"
  },
  "language_info": {
   "codemirror_mode": {
    "name": "ipython",
    "version": 2
   },
   "file_extension": ".py",
   "mimetype": "text/x-python",
   "name": "python",
   "nbconvert_exporter": "python",
   "pygments_lexer": "ipython2",
   "version": "2.7.13"
  }
 },
 "nbformat": 4,
 "nbformat_minor": 2
}
